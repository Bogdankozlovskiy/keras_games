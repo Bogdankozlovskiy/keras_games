{
 "cells": [
  {
   "cell_type": "code",
   "execution_count": 2,
   "metadata": {},
   "outputs": [],
   "source": [
    "import pygame\n",
    "from pygame import*\n",
    "import numpy as np\n",
    "from math import pi\n",
    "import random\n",
    "from world import *\n",
    "\n",
    "np.random.seed(23)\n",
    "random.seed(23)\n",
    "\n",
    "sizeshow=(800,600)\n",
    "len_step=0.1                          #размер одного шага\n",
    "m = generate_map(8, 6, 3, 3)          #создаем карту\n",
    "s=create_car()                        #создаем машинку\n",
    "bg=pygame.Surface(sizeshow)           #создали фон\n",
    "car_start=State((m[0][0] + m[0][1]) / 2,rect(len_step, pi/3))\n",
    "car=car_start.copy()\n",
    "er=np.mean(np.array(m),axis=0)[0]     #кардинаты центра карты\n",
    "phase0=0"
   ]
  },
  {
   "cell_type": "code",
   "execution_count": 8,
   "metadata": {},
   "outputs": [
    {
     "ename": "ValueError",
     "evalue": "cannot reshape array of size 7 into shape (1,5)",
     "output_type": "error",
     "traceback": [
      "\u001b[1;31m---------------------------------------------------------------------------\u001b[0m",
      "\u001b[1;31mValueError\u001b[0m                                Traceback (most recent call last)",
      "\u001b[1;32m<ipython-input-8-f669185441b1>\u001b[0m in \u001b[0;36m<module>\u001b[1;34m()\u001b[0m\n\u001b[0;32m     20\u001b[0m     \u001b[0mlit\u001b[0m\u001b[1;33m=\u001b[0m\u001b[0mray\u001b[0m\u001b[1;33m(\u001b[0m\u001b[0ms\u001b[0m\u001b[1;33m,\u001b[0m\u001b[0mbg\u001b[0m\u001b[1;33m,\u001b[0m\u001b[0mm\u001b[0m\u001b[1;33m,\u001b[0m\u001b[0mcar\u001b[0m\u001b[1;33m,\u001b[0m\u001b[0mnum_radar\u001b[0m\u001b[1;33m)\u001b[0m                               \u001b[1;31m#извлекаем виденье мира\u001b[0m\u001b[1;33m\u001b[0m\u001b[0m\n\u001b[0;32m     21\u001b[0m \u001b[1;33m\u001b[0m\u001b[0m\n\u001b[1;32m---> 22\u001b[1;33m     \u001b[0mcar\u001b[0m\u001b[1;33m=\u001b[0m\u001b[0mneuron\u001b[0m\u001b[1;33m(\u001b[0m\u001b[0mcar\u001b[0m\u001b[1;33m,\u001b[0m\u001b[0mnp\u001b[0m\u001b[1;33m.\u001b[0m\u001b[0marray\u001b[0m\u001b[1;33m(\u001b[0m\u001b[0mlit\u001b[0m\u001b[1;33m)\u001b[0m\u001b[1;33m.\u001b[0m\u001b[0mreshape\u001b[0m\u001b[1;33m(\u001b[0m\u001b[1;36m1\u001b[0m\u001b[1;33m,\u001b[0m\u001b[1;36m7\u001b[0m\u001b[1;33m)\u001b[0m\u001b[1;33m,\u001b[0m\u001b[0mmodel\u001b[0m\u001b[1;33m)\u001b[0m\u001b[1;31m##\u001b[0m\u001b[1;33m\u001b[0m\u001b[0m\n\u001b[0m\u001b[0;32m     23\u001b[0m \u001b[1;33m\u001b[0m\u001b[0m\n\u001b[0;32m     24\u001b[0m     \u001b[0mplot_map\u001b[0m\u001b[1;33m(\u001b[0m\u001b[0mm\u001b[0m\u001b[1;33m,\u001b[0m\u001b[0mbg\u001b[0m\u001b[1;33m)\u001b[0m\u001b[1;33m\u001b[0m\u001b[0m\n",
      "\u001b[1;32m~\\Desktop\\gamekeras\\car_games_keras\\пред копия\\world.py\u001b[0m in \u001b[0;36mneuron\u001b[1;34m(car, score, neu)\u001b[0m\n\u001b[0;32m     25\u001b[0m     \u001b[0mneu\u001b[0m\u001b[1;33m-\u001b[0m\u001b[0mсама\u001b[0m \u001b[0mнейронная\u001b[0m \u001b[0mсеть\u001b[0m\u001b[1;33m\u001b[0m\u001b[0m\n\u001b[0;32m     26\u001b[0m     Return: новый объект car содержащий новое положение машинки'''\n\u001b[1;32m---> 27\u001b[1;33m     \u001b[0motvet\u001b[0m\u001b[1;33m=\u001b[0m\u001b[0mint\u001b[0m\u001b[1;33m(\u001b[0m\u001b[0mneu\u001b[0m\u001b[1;33m.\u001b[0m\u001b[0mpredict\u001b[0m\u001b[1;33m(\u001b[0m\u001b[0mscore\u001b[0m\u001b[1;33m.\u001b[0m\u001b[0mreshape\u001b[0m\u001b[1;33m(\u001b[0m\u001b[1;36m1\u001b[0m\u001b[1;33m,\u001b[0m\u001b[1;36m5\u001b[0m\u001b[1;33m)\u001b[0m\u001b[1;33m)\u001b[0m\u001b[1;33m)\u001b[0m\u001b[1;33m\u001b[0m\u001b[0m\n\u001b[0m\u001b[0;32m     28\u001b[0m     \u001b[1;32mif\u001b[0m \u001b[0motvet\u001b[0m\u001b[1;33m==\u001b[0m\u001b[1;36m1\u001b[0m\u001b[1;33m:\u001b[0m\u001b[1;33m\u001b[0m\u001b[0m\n\u001b[0;32m     29\u001b[0m         \u001b[0mprint\u001b[0m\u001b[1;33m(\u001b[0m\u001b[1;34m\"left\"\u001b[0m\u001b[1;33m)\u001b[0m\u001b[1;33m\u001b[0m\u001b[0m\n",
      "\u001b[1;31mValueError\u001b[0m: cannot reshape array of size 7 into shape (1,5)"
     ]
    }
   ],
   "source": [
    "num_radar=7                                                #еолтчество радаров авто\n",
    "pygame.init()                                              #обязательная инициализация движка\n",
    "screen=pygame.display.set_mode(sizeshow)                   #создаем экран\n",
    "while True:\n",
    "    car.position=car.position+car.direction                #перемещаем машину в сторону ее направления\n",
    "    for eventy in pygame.event.get():\n",
    "        if eventy.type==KEYDOWN:\n",
    "            if eventy.dict['key']==K_ESCAPE:\n",
    "                pygame.quit()\n",
    "                break\n",
    "            if eventy.dict['key']==K_d:\n",
    "                car.direction=rect(abs(car.direction),\n",
    "                                   phase(car.direction)-pi/10)#изменяем направление машины по часавой стрелке\n",
    "            if eventy.dict['key']==K_a:\n",
    "                car.direction=rect(abs(car.direction),\n",
    "                                   phase(car.direction)+pi/10)#изменение направление машинки против часавой стрелки\n",
    "        if eventy.type==QUIT:\n",
    "            pygame.quit()\n",
    "            break\n",
    "    lit=ray(s,bg,m,car,num_radar)                               #извлекаем виденье мира\n",
    "    \n",
    "    car=neuron(car,np.array(lit).reshape(1,7),model)##\n",
    "    \n",
    "    plot_map(m,bg)\n",
    "    screen.blit(bg,(0,0))                                                 #надеваем холс на на наше окно сомещая края\n",
    "    bg.fill((255,255,255))                                                #заново заливаем холс белым\n",
    "    pygame.display.update()                                       \n",
    "    phase0,exity=carr(er,car,phase0)\n",
    "    if is_out_of_map(m,car.position) or exity:                                     #если произошло столкновение с картой\n",
    "        car=car_start.copy()                                              #то возвращаемся на старт"
   ]
  },
  {
   "cell_type": "markdown",
   "metadata": {},
   "source": [
    "***"
   ]
  },
  {
   "cell_type": "code",
   "execution_count": 4,
   "metadata": {},
   "outputs": [
    {
     "name": "stderr",
     "output_type": "stream",
     "text": [
      "Using TensorFlow backend.\n"
     ]
    }
   ],
   "source": [
    "from keras.layers.core import Dense,Activation,Flatten,Dropout\n",
    "from keras.layers import Input\n",
    "from keras.optimizers import Adam\n",
    "from keras.models import Model"
   ]
  },
  {
   "cell_type": "code",
   "execution_count": 5,
   "metadata": {},
   "outputs": [],
   "source": [
    "def get_model():    \n",
    "    inp=Input(shape=(7,))\n",
    "    x=Dense(512,kernel_initializer='normal')(inp)\n",
    "    x=Activation('relu')(x)\n",
    "    x=Dense(512,kernel_initializer='normal')(x)\n",
    "    x=Activation('relu')(x)\n",
    "    x=Dense(256,kernel_initializer='normal')(x)\n",
    "    x=Activation('relu')(x)\n",
    "    out=Dense(3,kernel_initializer='normal')(x)\n",
    "    model=Model(inputs=inp,outputs=out,name='autodriver')\n",
    "    model.compile(optimizer=Adam(lr=1e-6),loss='mse')\n",
    "    return model"
   ]
  },
  {
   "cell_type": "code",
   "execution_count": 6,
   "metadata": {},
   "outputs": [],
   "source": [
    "model = get_model()\n",
    "model.load_weights(\"game_model_weight_ray_7_1762.HDF5\")"
   ]
  }
 ],
 "metadata": {
  "kernelspec": {
   "display_name": "Python 3",
   "language": "python",
   "name": "python3"
  },
  "language_info": {
   "codemirror_mode": {
    "name": "ipython",
    "version": 3
   },
   "file_extension": ".py",
   "mimetype": "text/x-python",
   "name": "python",
   "nbconvert_exporter": "python",
   "pygments_lexer": "ipython3",
   "version": "3.6.4"
  }
 },
 "nbformat": 4,
 "nbformat_minor": 2
}
