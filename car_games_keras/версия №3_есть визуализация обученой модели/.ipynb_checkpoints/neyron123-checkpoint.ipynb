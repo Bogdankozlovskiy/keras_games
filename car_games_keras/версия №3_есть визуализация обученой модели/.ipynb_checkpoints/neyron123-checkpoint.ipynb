{
 "cells": [
  {
   "cell_type": "code",
   "execution_count": 1,
   "metadata": {
    "collapsed": true
   },
   "outputs": [],
   "source": [
    "import pygame\n",
    "from pygame import*\n",
    "import numpy as np\n",
    "from math import pi\n",
    "import random\n",
    "from world import *\n",
    "from time import sleep\n",
    "from collections import deque\n",
    "from keras.layers.core import Dense,Activation,Flatten,Dropout\n",
    "from keras.layers import Input\n",
    "from keras.optimizers import Adam\n",
    "from keras.models import Model\n",
    "np.random.seed(23)\n",
    "random.seed(23)\n",
    "\n",
    "sizeshow=(800,600)\n",
    "len_step=0.1                          #размер одного шага\n",
    "m = generate_map(8, 6, 3, 3)          #создаем карту\n",
    "s=create_car()                        #создаем машинку\n",
    "bg=pygame.Surface(sizeshow)           #создали фон\n",
    "car_start=State((m[0][0] + m[0][1]) / 2,rect(len_step, pi/3))\n",
    "car=car_start.copy()\n",
    "er=np.mean(np.array(m),axis=0)[0]     #кардинаты центра карты\n",
    "phase0=0"
   ]
  },
  {
   "cell_type": "code",
   "execution_count": 8,
   "metadata": {},
   "outputs": [
    {
     "ename": "error",
     "evalue": "display Surface quit",
     "output_type": "error",
     "traceback": [
      "\u001b[1;31m---------------------------------------------------------------------------\u001b[0m",
      "\u001b[1;31merror\u001b[0m                                     Traceback (most recent call last)",
      "\u001b[1;32m<ipython-input-8-6939064ffe84>\u001b[0m in \u001b[0;36m<module>\u001b[1;34m()\u001b[0m\n\u001b[0;32m     23\u001b[0m \u001b[1;33m\u001b[0m\u001b[0m\n\u001b[0;32m     24\u001b[0m     \u001b[0mplot_map\u001b[0m\u001b[1;33m(\u001b[0m\u001b[0mm\u001b[0m\u001b[1;33m,\u001b[0m\u001b[0mbg\u001b[0m\u001b[1;33m)\u001b[0m\u001b[1;33m\u001b[0m\u001b[0m\n\u001b[1;32m---> 25\u001b[1;33m     \u001b[0mscreen\u001b[0m\u001b[1;33m.\u001b[0m\u001b[0mblit\u001b[0m\u001b[1;33m(\u001b[0m\u001b[0mbg\u001b[0m\u001b[1;33m,\u001b[0m\u001b[1;33m(\u001b[0m\u001b[1;36m0\u001b[0m\u001b[1;33m,\u001b[0m\u001b[1;36m0\u001b[0m\u001b[1;33m)\u001b[0m\u001b[1;33m)\u001b[0m                                                 \u001b[1;31m#надеваем холс на на наше окно сомещая края\u001b[0m\u001b[1;33m\u001b[0m\u001b[0m\n\u001b[0m\u001b[0;32m     26\u001b[0m     \u001b[0mbg\u001b[0m\u001b[1;33m.\u001b[0m\u001b[0mfill\u001b[0m\u001b[1;33m(\u001b[0m\u001b[1;33m(\u001b[0m\u001b[1;36m255\u001b[0m\u001b[1;33m,\u001b[0m\u001b[1;36m255\u001b[0m\u001b[1;33m,\u001b[0m\u001b[1;36m255\u001b[0m\u001b[1;33m)\u001b[0m\u001b[1;33m)\u001b[0m                                                \u001b[1;31m#заново заливаем холс белым\u001b[0m\u001b[1;33m\u001b[0m\u001b[0m\n\u001b[0;32m     27\u001b[0m     \u001b[0mpygame\u001b[0m\u001b[1;33m.\u001b[0m\u001b[0mdisplay\u001b[0m\u001b[1;33m.\u001b[0m\u001b[0mupdate\u001b[0m\u001b[1;33m(\u001b[0m\u001b[1;33m)\u001b[0m\u001b[1;33m\u001b[0m\u001b[0m\n",
      "\u001b[1;31merror\u001b[0m: display Surface quit"
     ]
    }
   ],
   "source": [
    "num_radar=7                                                #еолтчество радаров авто\n",
    "pygame.init()                                              #обязательная инициализация движка\n",
    "screen=pygame.display.set_mode(sizeshow)                   #создаем экран\n",
    "while True:\n",
    "    car.position=car.position+car.direction                #перемещаем машину в сторону ее направления\n",
    "    for eventy in pygame.event.get():\n",
    "        if eventy.type==KEYDOWN:\n",
    "            if eventy.dict['key']==K_ESCAPE:\n",
    "                pygame.quit()\n",
    "                break\n",
    "            if eventy.dict['key']==K_d:\n",
    "                car.direction=rect(abs(car.direction),\n",
    "                                   phase(car.direction)-pi/10)#изменяем направление машины по часавой стрелке\n",
    "            if eventy.dict['key']==K_a:\n",
    "                car.direction=rect(abs(car.direction),\n",
    "                                   phase(car.direction)+pi/10)#изменение направление машинки против часавой стрелки\n",
    "        if eventy.type==QUIT:\n",
    "            pygame.quit()\n",
    "            break\n",
    "    lit=ray(s,bg,m,car,num_radar)                               #извлекаем виденье мира\n",
    "    \n",
    "    #car=neuron(car,np.array(lit).reshape(1,5),model)##\n",
    "    \n",
    "    plot_map(m,bg)\n",
    "    screen.blit(bg,(0,0))                                                 #надеваем холс на на наше окно сомещая края\n",
    "    bg.fill((255,255,255))                                                #заново заливаем холс белым\n",
    "    pygame.display.update()                                       \n",
    "    phase0,exity=carr(er,car,phase0)\n",
    "    if is_out_of_map(m,car.position) or exity:                                     #если произошло столкновение с картой\n",
    "        car=car_start.copy()                                              #то возвращаемся на старт"
   ]
  },
  {
   "cell_type": "markdown",
   "metadata": {},
   "source": [
    "***"
   ]
  },
  {
   "cell_type": "code",
   "execution_count": null,
   "metadata": {
    "collapsed": true
   },
   "outputs": [],
   "source": []
  }
 ],
 "metadata": {
  "kernelspec": {
   "display_name": "Python 3",
   "language": "python",
   "name": "python3"
  },
  "language_info": {
   "codemirror_mode": {
    "name": "ipython",
    "version": 3
   },
   "file_extension": ".py",
   "mimetype": "text/x-python",
   "name": "python",
   "nbconvert_exporter": "python",
   "pygments_lexer": "ipython3",
   "version": "3.6.3"
  }
 },
 "nbformat": 4,
 "nbformat_minor": 2
}
